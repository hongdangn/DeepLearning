{
 "cells": [
  {
   "cell_type": "code",
   "execution_count": 1,
   "id": "6ee136cd",
   "metadata": {},
   "outputs": [],
   "source": [
    "import pandas as pd\n",
    "import numpy as np\n",
    "import matplotlib.pyplot as plt"
   ]
  },
  {
   "cell_type": "code",
   "execution_count": 2,
   "id": "3dc68220",
   "metadata": {},
   "outputs": [
    {
     "data": {
      "text/plain": [
       "(4238, 15)"
      ]
     },
     "execution_count": 2,
     "metadata": {},
     "output_type": "execute_result"
    }
   ],
   "source": [
    "data = pd.read_csv(\"framingham.csv\")\n",
    "data = data.drop(\"education\", axis = 1)\n",
    "data.shape"
   ]
  },
  {
   "cell_type": "markdown",
   "id": "c9664bbb",
   "metadata": {},
   "source": [
    "## Data - Preprocessing"
   ]
  },
  {
   "cell_type": "code",
   "execution_count": 3,
   "id": "8d7967f1",
   "metadata": {},
   "outputs": [
    {
     "data": {
      "text/html": [
       "<div>\n",
       "<style scoped>\n",
       "    .dataframe tbody tr th:only-of-type {\n",
       "        vertical-align: middle;\n",
       "    }\n",
       "\n",
       "    .dataframe tbody tr th {\n",
       "        vertical-align: top;\n",
       "    }\n",
       "\n",
       "    .dataframe thead th {\n",
       "        text-align: right;\n",
       "    }\n",
       "</style>\n",
       "<table border=\"1\" class=\"dataframe\">\n",
       "  <thead>\n",
       "    <tr style=\"text-align: right;\">\n",
       "      <th></th>\n",
       "      <th>male</th>\n",
       "      <th>age</th>\n",
       "      <th>currentSmoker</th>\n",
       "      <th>cigsPerDay</th>\n",
       "      <th>BPMeds</th>\n",
       "      <th>prevalentStroke</th>\n",
       "      <th>prevalentHyp</th>\n",
       "      <th>diabetes</th>\n",
       "      <th>totChol</th>\n",
       "      <th>sysBP</th>\n",
       "      <th>diaBP</th>\n",
       "      <th>BMI</th>\n",
       "      <th>heartRate</th>\n",
       "      <th>glucose</th>\n",
       "      <th>TenYearCHD</th>\n",
       "    </tr>\n",
       "  </thead>\n",
       "  <tbody>\n",
       "    <tr>\n",
       "      <th>0</th>\n",
       "      <td>1</td>\n",
       "      <td>39</td>\n",
       "      <td>0</td>\n",
       "      <td>0.0</td>\n",
       "      <td>0.0</td>\n",
       "      <td>0</td>\n",
       "      <td>0</td>\n",
       "      <td>0</td>\n",
       "      <td>195.0</td>\n",
       "      <td>106.0</td>\n",
       "      <td>70.0</td>\n",
       "      <td>26.97</td>\n",
       "      <td>80.0</td>\n",
       "      <td>77.0</td>\n",
       "      <td>0</td>\n",
       "    </tr>\n",
       "    <tr>\n",
       "      <th>1</th>\n",
       "      <td>0</td>\n",
       "      <td>46</td>\n",
       "      <td>0</td>\n",
       "      <td>0.0</td>\n",
       "      <td>0.0</td>\n",
       "      <td>0</td>\n",
       "      <td>0</td>\n",
       "      <td>0</td>\n",
       "      <td>250.0</td>\n",
       "      <td>121.0</td>\n",
       "      <td>81.0</td>\n",
       "      <td>28.73</td>\n",
       "      <td>95.0</td>\n",
       "      <td>76.0</td>\n",
       "      <td>0</td>\n",
       "    </tr>\n",
       "    <tr>\n",
       "      <th>2</th>\n",
       "      <td>1</td>\n",
       "      <td>48</td>\n",
       "      <td>1</td>\n",
       "      <td>20.0</td>\n",
       "      <td>0.0</td>\n",
       "      <td>0</td>\n",
       "      <td>0</td>\n",
       "      <td>0</td>\n",
       "      <td>245.0</td>\n",
       "      <td>127.5</td>\n",
       "      <td>80.0</td>\n",
       "      <td>25.34</td>\n",
       "      <td>75.0</td>\n",
       "      <td>70.0</td>\n",
       "      <td>0</td>\n",
       "    </tr>\n",
       "    <tr>\n",
       "      <th>3</th>\n",
       "      <td>0</td>\n",
       "      <td>61</td>\n",
       "      <td>1</td>\n",
       "      <td>30.0</td>\n",
       "      <td>0.0</td>\n",
       "      <td>0</td>\n",
       "      <td>1</td>\n",
       "      <td>0</td>\n",
       "      <td>225.0</td>\n",
       "      <td>150.0</td>\n",
       "      <td>95.0</td>\n",
       "      <td>28.58</td>\n",
       "      <td>65.0</td>\n",
       "      <td>103.0</td>\n",
       "      <td>1</td>\n",
       "    </tr>\n",
       "    <tr>\n",
       "      <th>4</th>\n",
       "      <td>0</td>\n",
       "      <td>46</td>\n",
       "      <td>1</td>\n",
       "      <td>23.0</td>\n",
       "      <td>0.0</td>\n",
       "      <td>0</td>\n",
       "      <td>0</td>\n",
       "      <td>0</td>\n",
       "      <td>285.0</td>\n",
       "      <td>130.0</td>\n",
       "      <td>84.0</td>\n",
       "      <td>23.10</td>\n",
       "      <td>85.0</td>\n",
       "      <td>85.0</td>\n",
       "      <td>0</td>\n",
       "    </tr>\n",
       "  </tbody>\n",
       "</table>\n",
       "</div>"
      ],
      "text/plain": [
       "   male  age  currentSmoker  cigsPerDay  BPMeds  prevalentStroke  \\\n",
       "0     1   39              0         0.0     0.0                0   \n",
       "1     0   46              0         0.0     0.0                0   \n",
       "2     1   48              1        20.0     0.0                0   \n",
       "3     0   61              1        30.0     0.0                0   \n",
       "4     0   46              1        23.0     0.0                0   \n",
       "\n",
       "   prevalentHyp  diabetes  totChol  sysBP  diaBP    BMI  heartRate  glucose  \\\n",
       "0             0         0    195.0  106.0   70.0  26.97       80.0     77.0   \n",
       "1             0         0    250.0  121.0   81.0  28.73       95.0     76.0   \n",
       "2             0         0    245.0  127.5   80.0  25.34       75.0     70.0   \n",
       "3             1         0    225.0  150.0   95.0  28.58       65.0    103.0   \n",
       "4             0         0    285.0  130.0   84.0  23.10       85.0     85.0   \n",
       "\n",
       "   TenYearCHD  \n",
       "0           0  \n",
       "1           0  \n",
       "2           0  \n",
       "3           1  \n",
       "4           0  "
      ]
     },
     "execution_count": 3,
     "metadata": {},
     "output_type": "execute_result"
    }
   ],
   "source": [
    "# drop the instances that have at least one attribute with null value\n",
    "\n",
    "count_nulls = 0\n",
    "for index, nulls_in_row in enumerate(data.isnull().sum(axis = 1)):\n",
    "    if nulls_in_row:\n",
    "        data = data.drop(index)\n",
    "        count_nulls += 1\n",
    "data = data.reset_index(drop = True)\n",
    "data.head()"
   ]
  },
  {
   "cell_type": "code",
   "execution_count": 4,
   "id": "2274d776",
   "metadata": {},
   "outputs": [],
   "source": [
    "X = data.iloc[:, :-1].values\n",
    "y = data.iloc[:, -1].values\n",
    "\n",
    "# split data into train test and test set\n",
    "from sklearn.preprocessing import StandardScaler\n",
    "sc = StandardScaler()\n",
    "X = sc.fit_transform(X)\n",
    "\n",
    "from sklearn.model_selection import train_test_split\n",
    "X_train, X_test, y_train, y_test = train_test_split(X, y, random_state = 42, test_size = 0.2)\n"
   ]
  },
  {
   "cell_type": "markdown",
   "id": "f3c87132",
   "metadata": {},
   "source": [
    "## Logistic Regession with Sklearn"
   ]
  },
  {
   "cell_type": "code",
   "execution_count": 5,
   "id": "82b672db",
   "metadata": {},
   "outputs": [
    {
     "name": "stdout",
     "output_type": "stream",
     "text": [
      "Accuracy = 0.844\n"
     ]
    }
   ],
   "source": [
    "from sklearn.linear_model import LogisticRegression\n",
    "lr = LogisticRegression(max_iter = 10000)\n",
    "lr.fit(X_train, y_train)\n",
    "y_predict = lr.predict(X_test)\n",
    "\n",
    "comparison = np.equal(y_predict, y_test)\n",
    "print(\"Accuracy = {}\".format(np.sum(comparison)* 1./len(y_predict)))"
   ]
  },
  {
   "cell_type": "markdown",
   "id": "95e21473",
   "metadata": {},
   "source": [
    "## Logistic Regression from Scratch"
   ]
  },
  {
   "cell_type": "code",
   "execution_count": 23,
   "id": "92c58ce5",
   "metadata": {},
   "outputs": [],
   "source": [
    "class LogisticRegression_from_Scratch():\n",
    "    def __init__(self, max_iter, learning_rate):\n",
    "        self.max_iter = max_iter\n",
    "        self.w = None\n",
    "        self.learning_rate = learning_rate\n",
    "        self.bias = 0\n",
    "    \n",
    "    def sigmoid(self, instance, w, bias):\n",
    "        return 1./(1 + np.exp(-w@instance.T - bias))\n",
    "    \n",
    "    def compute_RSS(self, X_train, y_train, w):\n",
    "        RSS = 0\n",
    "        for index, instance in enumerate(X_train):\n",
    "            prob = self.sigmoid(instance, w, self.bias)\n",
    "            if y_train[index]:\n",
    "                RSS -= np.log(prob)\n",
    "            else:\n",
    "                RSS -= np.log(1 - prob)\n",
    "        return RSS* 1./len(X_train)\n",
    "    \n",
    "    def fit(self, X_train, y_train):\n",
    "        np.random.seed(42)\n",
    "        self.w = np.random.random(X_train.shape[1])\n",
    "        loss_history = []\n",
    "        \n",
    "        # stop condition\n",
    "        epsilon, RSS = 1e-8, 0\n",
    "        \n",
    "        # using gradient descent to optimize w\n",
    "        for epoch in range(self.max_iter):\n",
    "            sigmoid = self.sigmoid(X_train, self.w, self.bias)\n",
    "            grad = (sigmoid - y_train)@X_train\n",
    "            grad_bias = np.sum(sigmoid - y_train)\n",
    "            \n",
    "            self.w -= 1./len(X_train)*self.learning_rate* grad\n",
    "            self.bias -= 1./len(X_train)*self.learning_rate* grad_bias\n",
    "            \n",
    "            new_RSS = self.compute_RSS(X_train, y_train, self.w)\n",
    "            if abs(new_RSS - RSS) < epsilon:\n",
    "                break\n",
    "            \n",
    "            loss_history.append(new_RSS)\n",
    "            RSS = new_RSS\n",
    "            if epoch % 10 == 0:\n",
    "                print(\"Loss after epoch {} is {}.\".format(epoch + 1, self.compute_RSS(X_train, y_train, self.w)))\n",
    "        \n",
    "        return self.w, loss_history\n",
    "    \n",
    "    def predict(self, X_test):\n",
    "        y_predict = []\n",
    "        for instance in X_test:\n",
    "            prob = self.sigmoid(instance, self.w, self.bias)\n",
    "            if prob > 0.5:\n",
    "                y_predict.append(1)\n",
    "            else:\n",
    "                y_predict.append(0)\n",
    "        return y_predict"
   ]
  },
  {
   "cell_type": "code",
   "execution_count": 24,
   "id": "6971b6bb",
   "metadata": {},
   "outputs": [
    {
     "name": "stdout",
     "output_type": "stream",
     "text": [
      "Loss after epoch 1 is 0.9701031303205719.\n",
      "Loss after epoch 11 is 0.4612194825692546.\n",
      "Loss after epoch 21 is 0.3917540001145006.\n",
      "Loss after epoch 31 is 0.3798738994841775.\n",
      "Loss after epoch 41 is 0.3761916986440101.\n",
      "Loss after epoch 51 is 0.37470287689395915.\n",
      "Loss after epoch 61 is 0.37400867919485425.\n",
      "Loss after epoch 71 is 0.373649642048708.\n",
      "Loss after epoch 81 is 0.37344767951213076.\n",
      "Loss after epoch 91 is 0.37332586912826804.\n",
      "Loss after epoch 101 is 0.3732480608338209.\n",
      "Loss after epoch 111 is 0.3731960067256791.\n",
      "Loss after epoch 121 is 0.37315989228132.\n",
      "Loss after epoch 131 is 0.37313412594663.\n",
      "Loss after epoch 141 is 0.37311535048162237.\n",
      "Loss after epoch 151 is 0.37310145259780414.\n",
      "Loss after epoch 161 is 0.37309104551150174.\n",
      "Loss after epoch 171 is 0.3730831862225969.\n",
      "Loss after epoch 181 is 0.3730772143107049.\n",
      "Loss after epoch 191 is 0.3730726561543946.\n",
      "Loss after epoch 201 is 0.3730691657192384.\n",
      "Loss after epoch 211 is 0.373066486552022.\n",
      "Loss after epoch 221 is 0.3730644265291156.\n",
      "Loss after epoch 231 is 0.3730628405564739.\n",
      "Loss after epoch 241 is 0.37306161840231095.\n",
      "Loss after epoch 251 is 0.37306067595213693.\n",
      "Loss after epoch 261 is 0.37305994881337506.\n",
      "Loss after epoch 271 is 0.37305938757431467.\n",
      "Loss after epoch 281 is 0.37305895425268015.\n",
      "Loss after epoch 291 is 0.3730586196142972.\n",
      "Loss after epoch 301 is 0.3730583611367382.\n",
      "Loss after epoch 311 is 0.373058161456039.\n",
      "Loss after epoch 321 is 0.37305800717801674.\n",
      "Loss after epoch 331 is 0.3730578879664841.\n",
      "Accuracy = 0.844\n"
     ]
    }
   ],
   "source": [
    "LR = LogisticRegression_from_Scratch(max_iter = 1000, learning_rate = 0.5)\n",
    "w, loss_history = LR.fit(X_train, y_train)\n",
    "y_pred = LR.predict(X_test)\n",
    "comparison = np.equal(y_pred, y_test)\n",
    "print(\"Accuracy = {}\".format(np.sum(comparison) *1./len(comparison)))"
   ]
  },
  {
   "cell_type": "code",
   "execution_count": 27,
   "id": "8e031bc0",
   "metadata": {},
   "outputs": [
    {
     "data": {
      "image/png": "[encoded data removed]",
      "text/plain": [
       "<Figure size 640x480 with 1 Axes>"
      ]
     },
     "metadata": {},
     "output_type": "display_data"
    }
   ],
   "source": [
    "plt.plot(loss_history);\n",
    "plt.xlabel(\"Epoch\");\n",
    "plt.ylabel(\"Loss\");"
   ]
  }
 ],
 "metadata": {
  "kernelspec": {
   "display_name": "Python 3 (ipykernel)",
   "language": "python",
   "name": "python3"
  },
  "language_info": {
   "codemirror_mode": {
    "name": "ipython",
    "version": 3
   },
   "file_extension": ".py",
   "mimetype": "text/x-python",
   "name": "python",
   "nbconvert_exporter": "python",
   "pygments_lexer": "ipython3",
   "version": "3.11.4"
  }
 },
 "nbformat": 4,
 "nbformat_minor": 5
}
