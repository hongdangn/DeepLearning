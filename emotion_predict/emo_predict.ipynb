{
  "nbformat": 4,
  "nbformat_minor": 0,
  "metadata": {
    "colab": {
      "provenance": []
    },
    "kernelspec": {
      "name": "python3",
      "display_name": "Python 3"
    },
    "language_info": {
      "name": "python"
    },
    "accelerator": "TPU"
  },
  "cells": [
    {
      "cell_type": "code",
      "source": [
        "import os\n",
        "from keras.layers import Dense, Dropout, Conv2D, MaxPooling2D\n",
        "from keras import Sequential, layers\n",
        "import matplotlib.pyplot as plt\n",
        "import matplotlib.image as mpimg\n",
        "import numpy as np\n",
        "import cv2\n",
        "from PIL import Image"
      ],
      "metadata": {
        "id": "OT6TbS--h30O"
      },
      "execution_count": null,
      "outputs": []
    },
    {
      "cell_type": "markdown",
      "source": [
        "# **Collect data and Pre-processing**"
      ],
      "metadata": {
        "id": "NnE_Euo0nVey"
      }
    },
    {
      "cell_type": "code",
      "source": [
        "path = \"drive/MyDrive/emotion_detection/eINTERFACE_2021_Image/\"\n",
        "train_dir = \"train_data\"\n",
        "test_dir = \"test_data\"\n",
        "list_folder = []\n",
        "\n",
        "for name in os.listdir(path + train_dir):\n",
        "  list_folder.append(name)\n",
        "  print(name)"
      ],
      "metadata": {
        "colab": {
          "base_uri": "https://localhost:8080/"
        },
        "id": "P82a_MFtl5-J",
        "outputId": "cbabec86-84f4-4e61-9b7f-3670c773bd9a"
      },
      "execution_count": null,
      "outputs": [
        {
          "output_type": "stream",
          "name": "stdout",
          "text": [
            "Fear\n",
            "Surprise\n",
            "Happiness\n",
            "Sadness\n",
            "Disgust\n",
            "Anger\n"
          ]
        }
      ]
    },
    {
      "cell_type": "code",
      "source": [
        "def collect_data_from(path, data_dir):\n",
        "  data_image, data_label = [], []\n",
        "  label = 0\n",
        "  for folder in list_folder:\n",
        "    for link_image in os.listdir(path + data_dir + '/' + folder):\n",
        "      image = cv2.imread(path + data_dir + '/' + folder + '/' + link_image, cv2.IMREAD_GRAYSCALE)\n",
        "      resized_image = cv2.resize(image, (128, 128))\n",
        "      # image = mpimg.imread(path + data_dir + '/' + folder + '/' + link_image)\n",
        "      data_image.append(resized_image)\n",
        "      data_label.append(label)\n",
        "    label += 1\n",
        "  return data_image, data_label\n",
        "\n",
        "train_image, train_label = collect_data_from(path, train_dir)\n",
        "test_image, test_label = collect_data_from(path, test_dir)"
      ],
      "metadata": {
        "id": "8IIoMo4jrmrj"
      },
      "execution_count": null,
      "outputs": []
    },
    {
      "cell_type": "code",
      "source": [
        "train_image = np.array(train_image)\n",
        "test_image = np.array(test_image)\n",
        "train_label = np.array(train_label)\n",
        "test_label = np.array(test_label)\n",
        "dict_label = {1: 'Fear', 2: 'Surprise', 3: 'Happiness', 4: 'Sadness', 5: 'Disgust', 6: 'Anger'}\n",
        "'''\n",
        "from keras.preprocessing.image import ImageDataGenerator\n",
        "\n",
        "train_datagen = ImageDataGenerator(rescale = 1./255,\n",
        "                                   shear_range = 0.2,\n",
        "                                   zoom_range = 0.2,\n",
        "                                   horizontal_flip = True)\n",
        "\n",
        "test_datagen = ImageDataGenerator(rescale = 1./255)\n",
        "\n",
        "training_set = train_datagen.flow_from_directory(path + train_dir,\n",
        "                                                 target_size = (128, 128),\n",
        "                                                 batch_size = 64,\n",
        "                                                 class_mode = 'categorical')\n",
        "\n",
        "test_set = test_datagen.flow_from_directory(path + test_dir,\n",
        "                                            target_size = (128, 128),\n",
        "                                            batch_size = 64,\n",
        "                                            class_mode = 'categorical')\n",
        "'''"
      ],
      "metadata": {
        "colab": {
          "base_uri": "https://localhost:8080/",
          "height": 140
        },
        "id": "IWiKcBNNGVU_",
        "outputId": "cd943bcd-da42-4757-f5f8-d195b44a30c3"
      },
      "execution_count": null,
      "outputs": [
        {
          "output_type": "execute_result",
          "data": {
            "text/plain": [
              "\"\\nfrom keras.preprocessing.image import ImageDataGenerator\\n\\ntrain_datagen = ImageDataGenerator(rescale = 1./255,\\n                                   shear_range = 0.2,\\n                                   zoom_range = 0.2,\\n                                   horizontal_flip = True)\\n\\ntest_datagen = ImageDataGenerator(rescale = 1./255)\\n\\ntraining_set = train_datagen.flow_from_directory(path + train_dir,\\n                                                 target_size = (128, 128),\\n                                                 batch_size = 64,\\n                                                 class_mode = 'categorical')\\n\\ntest_set = test_datagen.flow_from_directory(path + test_dir,\\n                                            target_size = (128, 128),\\n                                            batch_size = 64,\\n                                            class_mode = 'categorical')\\n\""
            ],
            "application/vnd.google.colaboratory.intrinsic+json": {
              "type": "string"
            }
          },
          "metadata": {},
          "execution_count": 10
        }
      ]
    },
    {
      "cell_type": "markdown",
      "source": [
        "# **Building CNN structure to train data**"
      ],
      "metadata": {
        "id": "c3rfxNCZOZ_E"
      }
    },
    {
      "cell_type": "code",
      "source": [
        "# Build model\n",
        "\n",
        "model = Sequential()\n",
        "\n",
        "model.add(Conv2D(filters = 16, kernel_size = (3, 3), activation = 'relu', input_shape = (128, 128, 1)))\n",
        "model.add(layers.BatchNormalization())\n",
        "model.add(Conv2D(filters = 32, kernel_size = (3, 3), activation = 'relu'))\n",
        "model.add(MaxPooling2D(pool_size = (2, 2)))\n",
        "\n",
        "model.add(Conv2D(filters = 32, kernel_size = (3, 3), activation = 'relu'))\n",
        "model.add(layers.BatchNormalization())\n",
        "model.add(Conv2D(filters = 32, kernel_size = (3, 3), activation = 'relu'))\n",
        "model.add(MaxPooling2D(pool_size = (2, 2)))\n",
        "model.add(Dropout(0.3))\n",
        "\n",
        "model.add(layers.Flatten())\n",
        "model.add(Dense(units = 128, activation = 'relu'))\n",
        "model.add(layers.BatchNormalization())\n",
        "model.add(Dense(units = 6, activation = 'softmax'))\n",
        "\n",
        "model.summary()"
      ],
      "metadata": {
        "id": "dpkcb5jWZq7z",
        "colab": {
          "base_uri": "https://localhost:8080/"
        },
        "outputId": "c1a8ac11-71f4-497b-adf2-80e3b984010c"
      },
      "execution_count": null,
      "outputs": [
        {
          "output_type": "stream",
          "name": "stdout",
          "text": [
            "Model: \"sequential\"\n",
            "_________________________________________________________________\n",
            " Layer (type)                Output Shape              Param #   \n",
            "=================================================================\n",
            " conv2d (Conv2D)             (None, 126, 126, 16)      160       \n",
            "                                                                 \n",
            " batch_normalization (BatchN  (None, 126, 126, 16)     64        \n",
            " ormalization)                                                   \n",
            "                                                                 \n",
            " conv2d_1 (Conv2D)           (None, 124, 124, 32)      4640      \n",
            "                                                                 \n",
            " max_pooling2d (MaxPooling2D  (None, 62, 62, 32)       0         \n",
            " )                                                               \n",
            "                                                                 \n",
            " conv2d_2 (Conv2D)           (None, 60, 60, 32)        9248      \n",
            "                                                                 \n",
            " batch_normalization_1 (Batc  (None, 60, 60, 32)       128       \n",
            " hNormalization)                                                 \n",
            "                                                                 \n",
            " conv2d_3 (Conv2D)           (None, 58, 58, 32)        9248      \n",
            "                                                                 \n",
            " max_pooling2d_1 (MaxPooling  (None, 29, 29, 32)       0         \n",
            " 2D)                                                             \n",
            "                                                                 \n",
            " dropout (Dropout)           (None, 29, 29, 32)        0         \n",
            "                                                                 \n",
            " flatten (Flatten)           (None, 26912)             0         \n",
            "                                                                 \n",
            " dense (Dense)               (None, 128)               3444864   \n",
            "                                                                 \n",
            " batch_normalization_2 (Batc  (None, 128)              512       \n",
            " hNormalization)                                                 \n",
            "                                                                 \n",
            " dense_1 (Dense)             (None, 6)                 774       \n",
            "                                                                 \n",
            "=================================================================\n",
            "Total params: 3,469,638\n",
            "Trainable params: 3,469,286\n",
            "Non-trainable params: 352\n",
            "_________________________________________________________________\n"
          ]
        }
      ]
    },
    {
      "cell_type": "code",
      "source": [
        "model.compile(optimizer = 'SGD', loss = 'sparse_categorical_crossentropy', metrics = ['accuracy'])"
      ],
      "metadata": {
        "id": "QfjNHxEfg9Mw"
      },
      "execution_count": null,
      "outputs": []
    },
    {
      "cell_type": "code",
      "source": [
        "model.fit(train_image, train_label, epochs = 5, validation_data = (test_image, test_label))"
      ],
      "metadata": {
        "id": "M1hOMGc1hQcm",
        "colab": {
          "base_uri": "https://localhost:8080/"
        },
        "outputId": "50ce64e0-7ea3-4d30-b24b-cf69493d0123"
      },
      "execution_count": null,
      "outputs": [
        {
          "output_type": "stream",
          "name": "stdout",
          "text": [
            "Epoch 1/5\n",
            "360/360 [==============================] - 715s 2s/step - loss: 1.3642 - accuracy: 0.4748 - val_loss: 2.4598 - val_accuracy: 0.3825\n",
            "Epoch 2/5\n",
            "360/360 [==============================] - 704s 2s/step - loss: 0.8398 - accuracy: 0.6871 - val_loss: 0.9443 - val_accuracy: 0.6321\n",
            "Epoch 3/5\n",
            "360/360 [==============================] - 711s 2s/step - loss: 0.6348 - accuracy: 0.7708 - val_loss: 1.0598 - val_accuracy: 0.6495\n",
            "Epoch 4/5\n",
            "360/360 [==============================] - 704s 2s/step - loss: 0.5013 - accuracy: 0.8228 - val_loss: 1.3877 - val_accuracy: 0.6210\n",
            "Epoch 5/5\n",
            "360/360 [==============================] - 704s 2s/step - loss: 0.4121 - accuracy: 0.8550 - val_loss: 1.1214 - val_accuracy: 0.6161\n"
          ]
        },
        {
          "output_type": "execute_result",
          "data": {
            "text/plain": [
              "<keras.callbacks.History at 0x7f5657a62380>"
            ]
          },
          "metadata": {},
          "execution_count": 14
        }
      ]
    },
    {
      "cell_type": "code",
      "source": [
        "model.evaluate(test_image, test_label)"
      ],
      "metadata": {
        "colab": {
          "base_uri": "https://localhost:8080/"
        },
        "id": "sTChloxCVvbN",
        "outputId": "88ad7aa0-a40e-4aed-8e48-f4e92235416b"
      },
      "execution_count": null,
      "outputs": [
        {
          "output_type": "stream",
          "name": "stdout",
          "text": [
            "45/45 [==============================] - 27s 605ms/step - loss: 1.1214 - accuracy: 0.6161\n"
          ]
        },
        {
          "output_type": "execute_result",
          "data": {
            "text/plain": [
              "[1.1213911771774292, 0.6161335110664368]"
            ]
          },
          "metadata": {},
          "execution_count": 15
        }
      ]
    },
    {
      "cell_type": "code",
      "source": [
        "# show image function\n",
        "def show_image(data_image):\n",
        "    prediction_prob = model.predict(data_image)\n",
        "    label_max = np.argmax(prediction_prob)\n",
        "\n",
        "    image = np.squeeze(data_image, axis = 0)\n",
        "    plt.imshow(image)\n",
        "    plt.xlabel(\"Predict emotion: \" + dict_label[label_max + 1])\n",
        "\n",
        "def resize(image_path):\n",
        "  # read image and convert to gray scale\n",
        "  original_image = cv2.imread(image_path, cv2.IMREAD_GRAYSCALE)\n",
        "\n",
        "  # resize the image to 128 x 128 pixels\n",
        "  resized_image = cv2.resize(original_image, (128, 128))\n",
        "  resized_image = np.expand_dims(resized_image, axis = 0)\n",
        "  return resized_image\n",
        "\n",
        "image_1 = resize(\"dang.jpg\")"
      ],
      "metadata": {
        "id": "mukO18Z_X0wz"
      },
      "execution_count": null,
      "outputs": []
    }
  ]
}