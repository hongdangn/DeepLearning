{
 "cells": [
  {
   "cell_type": "markdown",
   "id": "be9ae586",
   "metadata": {},
   "source": [
    "# Differential Evolution"
   ]
  },
  {
   "cell_type": "code",
   "execution_count": 8,
   "id": "6a9a2b18",
   "metadata": {},
   "outputs": [],
   "source": [
    "import numpy as np\n",
    "import random\n",
    "import matplotlib.pyplot as plt\n",
    "import random"
   ]
  },
  {
   "cell_type": "code",
   "execution_count": 2,
   "id": "376d892e",
   "metadata": {},
   "outputs": [],
   "source": [
    "class DifferentialEvolution():\n",
    "    def __init__(self, dims, crossover_rate, differ_scale, num_individuals, num_gens):\n",
    "        self.num_dims = dims\n",
    "        self.crossover_rate = crossover_rate\n",
    "        self.differ_scale = differ_scale\n",
    "        self.num_individuals = num_individuals\n",
    "        self.num_gens = num_gens\n",
    "        \n",
    "    def initialize_pop(self, lower_bound, upper_bound):\n",
    "        population = []\n",
    "        for index_indi in range(self.num_individuals):\n",
    "            coefficents = np.random.random(self.num_dims)\n",
    "            indi = []\n",
    "            for coefficent in coefficents:\n",
    "                indi.append(coefficent*(upper_bound - lower_bound) + lower_bound)\n",
    "            indi = np.array(indi)\n",
    "            population.append(indi)\n",
    "        return np.array(population)\n",
    "    \n",
    "    def fitness_score(self, indi):\n",
    "        indi_score = 0\n",
    "        for dim in range(self.num_dims - 1):\n",
    "            indi_score += 100*(indi[dim + 1] - indi[dim]**2)**2 + (indi[dim] - 1)**2\n",
    "        return indi_score\n",
    "    \n",
    "    def mutate_crossover(self, pop, indi, lower_bound, upper_bound):\n",
    "        indi_after = []\n",
    "        index = np.random.choice(self.num_individuals, size = 3, replace = False)\n",
    "        \n",
    "        # new_indi after mutation\n",
    "        new_indi = pop[index[0]] + self.differ_scale*(pop[index[1]] - pop[index[2]])\n",
    "        \n",
    "        # crossover\n",
    "        index_mutate = np.random.randint(0, self.num_dims)\n",
    "        for dim in range(self.num_dims):\n",
    "            if random.random() < self.crossover_rate or dim == index_mutate:\n",
    "                indi_after.append(new_indi[dim])\n",
    "                if new_indi[dim] < lower_bound:\n",
    "                    indi_after[dim] = lower_bound\n",
    "                if new_indi[dim] > upper_bound:\n",
    "                    indi_after[dim] = upper_bound\n",
    "            else:\n",
    "                indi_after.append(indi[dim])\n",
    "        \n",
    "        if self.fitness_score(indi_after) < self.fitness_score(indi):\n",
    "            return np.array(indi_after)\n",
    "        else:\n",
    "            return indi\n",
    "                \n",
    "    def best_fitness_from(self, population):\n",
    "        min_fitness = 100000000\n",
    "        for indi in population:\n",
    "            if self.fitness_score(indi) < min_fitness:\n",
    "                min_fitness = self.fitness_score(indi)\n",
    "                \n",
    "        return min_fitness\n",
    "    \n",
    "    def fit_DE(self):\n",
    "        population = self.initialize_pop(lower_bound = -5, upper_bound = 10)\n",
    "        history_fitnesses, generation = [], 0\n",
    "        while generation < self.num_gens:\n",
    "            for index, indi in enumerate(population):\n",
    "                indi_after = self.mutate_crossover(population, indi, -5, 10)\n",
    "                population[index] = indi_after\n",
    "            \n",
    "            best_fitness = self.best_fitness_from(population)\n",
    "            history_fitnesses.append(best_fitness)\n",
    "            if generation % 50 == 0:\n",
    "                print(\"Best fitness in generation {} is {}\".format(generation + 1, best_fitness))\n",
    "            generation += 1\n",
    "        return history_fitnesses"
   ]
  },
  {
   "cell_type": "code",
   "execution_count": 5,
   "id": "7f1bd8df",
   "metadata": {},
   "outputs": [
    {
     "name": "stdout",
     "output_type": "stream",
     "text": [
      "Best fitness in generation 1 is 214644.3218835448\n",
      "Best fitness in generation 51 is 85733.49068436484\n",
      "Best fitness in generation 101 is 27930.98228505177\n",
      "Best fitness in generation 151 is 14208.885637683394\n",
      "Best fitness in generation 201 is 4132.656964323906\n",
      "Best fitness in generation 251 is 2723.4961635952677\n",
      "Best fitness in generation 301 is 2048.005809298546\n",
      "Best fitness in generation 351 is 2048.005809298546\n",
      "Best fitness in generation 401 is 1194.0467422815943\n",
      "Best fitness in generation 451 is 1043.4634460128862\n",
      "Best fitness in generation 501 is 623.6289425185746\n",
      "Best fitness in generation 551 is 546.7167514079337\n",
      "Best fitness in generation 601 is 336.16717788991514\n",
      "Best fitness in generation 651 is 304.331428187017\n",
      "Best fitness in generation 701 is 257.49969933041814\n",
      "Best fitness in generation 751 is 206.77949597917433\n",
      "Best fitness in generation 801 is 161.8895728685656\n",
      "Best fitness in generation 851 is 145.90467630211683\n",
      "Best fitness in generation 901 is 110.42273794227155\n",
      "Best fitness in generation 951 is 87.3944756654199\n",
      "Best fitness in generation 1001 is 68.73222703055752\n",
      "Best fitness in generation 1051 is 62.63285777760737\n",
      "Best fitness in generation 1101 is 43.58576749308789\n",
      "Best fitness in generation 1151 is 33.93467005861342\n",
      "Best fitness in generation 1201 is 27.464506890727215\n",
      "Best fitness in generation 1251 is 26.889380672290464\n",
      "Best fitness in generation 1301 is 22.677987073815114\n",
      "Best fitness in generation 1351 is 22.405317420715612\n",
      "Best fitness in generation 1401 is 19.413480663016525\n",
      "Best fitness in generation 1451 is 19.204061650505714\n"
     ]
    }
   ],
   "source": [
    "model = DifferentialEvolution(dims = 20, \n",
    "                              crossover_rate = 0.6, \n",
    "                              differ_scale = 0.8, \n",
    "                              num_individuals = 200, \n",
    "                              num_gens = 1500)\n",
    "history_fitnesses = model.fit_DE()"
   ]
  },
  {
   "cell_type": "code",
   "execution_count": 70,
   "id": "992f01fb",
   "metadata": {},
   "outputs": [
    {
     "data": {
      "text/plain": [
       "<matplotlib.collections.PathCollection at 0x1d01ce38290>"
      ]
     },
     "execution_count": 70,
     "metadata": {},
     "output_type": "execute_result"
    },
    {
     "data": {
      "image/png": "[encoded data removed]",
      "text/plain": [
       "<Figure size 640x480 with 1 Axes>"
      ]
     },
     "metadata": {},
     "output_type": "display_data"
    }
   ],
   "source": [
    "plt.plot(history_fitnesses)\n",
    "plt.xlabel(\"Epochs\")\n",
    "plt.ylabel(\"Minimum fitness of generation\")\n",
    "epochs = [i for i in range(1500) if i % 50 == 0]\n",
    "fitnesses = [history_fitnesses[i] for i in epochs]\n",
    "plt.scatter(epochs, fitnesses)"
   ]
  },
  {
   "cell_type": "markdown",
   "id": "074a92ee",
   "metadata": {},
   "source": [
    "# Real-Coded Genetic Algorithm"
   ]
  },
  {
   "cell_type": "code",
   "execution_count": 59,
   "id": "0a07af3a",
   "metadata": {},
   "outputs": [],
   "source": [
    "class Real_CodedGA():\n",
    "    def __init__(self, dims, num_individuals, num_gens, distribution_index):\n",
    "        self.num_dims = dims\n",
    "        self.num_individuals = num_individuals\n",
    "        self.num_gens = num_gens\n",
    "        self.distribution_index = distribution_index\n",
    "    \n",
    "    def initialize_pop(self, lower_bound, upper_bound):\n",
    "        population = []\n",
    "        for index_indi in range(self.num_individuals):\n",
    "            coefficents = np.random.random(self.num_dims)\n",
    "            indi = []\n",
    "            for coefficent in coefficents:\n",
    "                indi.append(coefficent*(upper_bound - lower_bound) + lower_bound)\n",
    "            indi = np.array(indi)\n",
    "            population.append(indi)\n",
    "        return population\n",
    "    \n",
    "    def fitness_score(self, indi):\n",
    "        indi_score = 0\n",
    "        for dim in range(self.num_dims - 1):\n",
    "            indi_score += 100*(indi[dim + 1] - indi[dim]**2)**2 + (indi[dim] - 1)**2\n",
    "        return indi_score\n",
    "    \n",
    "    # using SBX\n",
    "    def crossover(self, fir_indi, sec_indi):\n",
    "        param_beta, rand = None, random.random()\n",
    "        if rand <= 0.5:\n",
    "            param_beta = (2*rand)**(1./(self.distribution_index + 1))\n",
    "        else:\n",
    "            param_beta = (1./(2 - 2*rand))**(1./(self.distribution_index + 1))\n",
    "            \n",
    "        fir_offspring = 0.5*((1 + param_beta)*fir_indi + (1 - param_beta)*sec_indi)\n",
    "        sec_offspring = 0.5*((1 - param_beta)*fir_indi + (1 + param_beta)*sec_indi)\n",
    "        return fir_offspring, sec_offspring\n",
    "\n",
    "    # using normally distributed mutation\n",
    "    def mutate(self, indi, mutation_rate, mean, std_dev):\n",
    "        for dim in range(self.num_dims):\n",
    "            if random.random() < mutation_rate:\n",
    "                mutation_value = np.random.normal(mean, std_dev)\n",
    "                indi[dim] = indi[dim] + mutation_value\n",
    "        return indi\n",
    "    \n",
    "    # using tournament selection\n",
    "    def select(self, population, tour_size):\n",
    "        tournament = []\n",
    "        rand_indexes = np.random.choice(self.num_individuals, size = tour_size, replace = False)\n",
    "        for index in rand_indexes:\n",
    "            tournament.append(self.fitness_score(population[index]))\n",
    "        chosen_index = np.argmax(tournament)\n",
    "        return population[rand_indexes[chosen_index]]\n",
    "    \n",
    "    def best_fitness_from(self, population):\n",
    "        min_fitness = 100000000\n",
    "        for indi in population:\n",
    "            if self.fitness_score(indi) < min_fitness:\n",
    "                min_fitness = self.fitness_score(indi)\n",
    "        return min_fitness\n",
    "    \n",
    "    def fit_RCGA(self, crossover_rate, mutate_rate):\n",
    "        population = self.initialize_pop(lower_bound = -5, upper_bound = 10)\n",
    "        generation, history_fitness = 0, []\n",
    "        while generation < self.num_gens:\n",
    "            pop_size = 0\n",
    "            while pop_size < self.num_individuals:\n",
    "                fir_offspring, sec_offspring = None, None\n",
    "                fir_parent = self.select(population, tour_size = 20)\n",
    "                sec_parent = self.select(population, tour_size = 20)\n",
    "                \n",
    "                if random.random() < crossover_rate:\n",
    "                    fir_offspring, sec_offspring = self.crossover(fir_parent, sec_parent)\n",
    "                    population.append(fir_offspring)\n",
    "                    population.append(sec_offspring)\n",
    "                    pop_size += 2\n",
    "                \n",
    "                if fir_offspring is not None and random.random() < mutate_rate:\n",
    "                    offspring = self.mutate(fir_offspring, mutation_rate = 0.5, mean = 0, std_dev = 0.1)\n",
    "                    population.append(offspring)\n",
    "                    pop_size += 1\n",
    "                    \n",
    "            population.sort(key = lambda x: self.fitness_score(x))\n",
    "            population = population[0: self.num_individuals]\n",
    "            best_fitness = self.best_fitness_from(population)\n",
    "            history_fitness.append(best_fitness)\n",
    "            if generation % 50 == 0:\n",
    "                print(\"Best fitness in generation {} is {}\".format(generation + 1, best_fitness))\n",
    "            generation += 1\n",
    "        return history_fitness"
   ]
  },
  {
   "cell_type": "code",
   "execution_count": 63,
   "id": "c6dd0ac8",
   "metadata": {},
   "outputs": [
    {
     "name": "stdout",
     "output_type": "stream",
     "text": [
      "Best fitness in generation 1 is 583025.070418207\n",
      "Best fitness in generation 51 is 166358.48776190504\n",
      "Best fitness in generation 101 is 109630.6939967221\n",
      "Best fitness in generation 151 is 81508.81326768071\n",
      "Best fitness in generation 201 is 64228.04433723215\n",
      "Best fitness in generation 251 is 50789.314665266436\n",
      "Best fitness in generation 301 is 37173.776051788234\n",
      "Best fitness in generation 351 is 29061.621664282815\n",
      "Best fitness in generation 401 is 21468.689076220304\n",
      "Best fitness in generation 451 is 14322.661084197884\n",
      "Best fitness in generation 501 is 10726.227217880294\n",
      "Best fitness in generation 551 is 8241.475765037218\n",
      "Best fitness in generation 601 is 5390.450059500695\n",
      "Best fitness in generation 651 is 3461.2370611307597\n",
      "Best fitness in generation 701 is 2466.4149010450337\n",
      "Best fitness in generation 751 is 1487.6260053296176\n",
      "Best fitness in generation 801 is 980.0579918295599\n",
      "Best fitness in generation 851 is 659.9334366197386\n",
      "Best fitness in generation 901 is 392.36055367685316\n",
      "Best fitness in generation 951 is 281.3424875315724\n",
      "Best fitness in generation 1001 is 181.96801093301062\n",
      "Best fitness in generation 1051 is 137.09244381276363\n",
      "Best fitness in generation 1101 is 92.66334845447238\n",
      "Best fitness in generation 1151 is 76.51238320061783\n",
      "Best fitness in generation 1201 is 57.46365994876135\n",
      "Best fitness in generation 1251 is 51.47184269450962\n",
      "Best fitness in generation 1301 is 48.774783672617964\n",
      "Best fitness in generation 1351 is 37.462155562276585\n",
      "Best fitness in generation 1401 is 37.462155562276585\n",
      "Best fitness in generation 1451 is 31.63880210102316\n"
     ]
    }
   ],
   "source": [
    "model = Real_CodedGA(dims = 20,  \n",
    "                     num_individuals = 200, \n",
    "                     num_gens = 1500,\n",
    "                     distribution_index = 5)\n",
    "history_fitness = model.fit_RCGA(crossover_rate = 0.8, mutate_rate = 0.5)"
   ]
  },
  {
   "cell_type": "code",
   "execution_count": 68,
   "id": "da7bc289",
   "metadata": {},
   "outputs": [
    {
     "data": {
      "text/plain": [
       "<matplotlib.collections.PathCollection at 0x1d01bc9d090>"
      ]
     },
     "execution_count": 68,
     "metadata": {},
     "output_type": "execute_result"
    },
    {
     "data": {
      "image/png": "[encoded data removed]",
      "text/plain": [
       "<Figure size 640x480 with 1 Axes>"
      ]
     },
     "metadata": {},
     "output_type": "display_data"
    }
   ],
   "source": [
    "plt.plot(history_fitness)\n",
    "plt.xlabel(\"Epochs\")\n",
    "plt.ylabel(\"Minimum fitness of generation\")\n",
    "epochs = [i for i in range(1500) if i % 50 == 0]\n",
    "fitnesses = [history_fitness[i] for i in epochs]\n",
    "plt.scatter(epochs, fitnesses)"
   ]
  }
 ],
 "metadata": {
  "kernelspec": {
   "display_name": "Python 3 (ipykernel)",
   "language": "python",
   "name": "python3"
  },
  "language_info": {
   "codemirror_mode": {
    "name": "ipython",
    "version": 3
   },
   "file_extension": ".py",
   "mimetype": "text/x-python",
   "name": "python",
   "nbconvert_exporter": "python",
   "pygments_lexer": "ipython3",
   "version": "3.11.4"
  }
 },
 "nbformat": 4,
 "nbformat_minor": 5
}
