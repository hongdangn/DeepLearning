{
 "cells": [
  {
   "cell_type": "code",
   "execution_count": 1,
   "metadata": {},
   "outputs": [],
   "source": [
    "import torch\n",
    "import torch.nn as nn\n",
    "import torch.nn.functional as F\n",
    "from torch.utils.data import DataLoader\n",
    "from torchvision import datasets, transforms\n",
    "from torchvision.utils import make_grid\n",
    "\n",
    "import numpy as np\n",
    "import pandas as pd\n",
    "from sklearn.metrics import confusion_matrix\n",
    "import matplotlib.pyplot as plt\n",
    "%matplotlib inline"
   ]
  },
  {
   "cell_type": "markdown",
   "metadata": {},
   "source": [
    "# Load MNIST Dataset"
   ]
  },
  {
   "cell_type": "code",
   "execution_count": 3,
   "metadata": {},
   "outputs": [
    {
     "name": "stdout",
     "output_type": "stream",
     "text": [
      "Downloading http://yann.lecun.com/exdb/mnist/train-images-idx3-ubyte.gz\n",
      "Downloading http://yann.lecun.com/exdb/mnist/train-images-idx3-ubyte.gz to C:\\Users\\Asus\\Desktop\\Lab\\CNN\\MNIST\\raw\\train-images-idx3-ubyte.gz\n"
     ]
    },
    {
     "name": "stderr",
     "output_type": "stream",
     "text": [
      "100.0%\n"
     ]
    },
    {
     "name": "stdout",
     "output_type": "stream",
     "text": [
      "Extracting C:\\Users\\Asus\\Desktop\\Lab\\CNN\\MNIST\\raw\\train-images-idx3-ubyte.gz to C:\\Users\\Asus\\Desktop\\Lab\\CNN\\MNIST\\raw\n",
      "\n",
      "Downloading http://yann.lecun.com/exdb/mnist/train-labels-idx1-ubyte.gz\n",
      "Downloading http://yann.lecun.com/exdb/mnist/train-labels-idx1-ubyte.gz to C:\\Users\\Asus\\Desktop\\Lab\\CNN\\MNIST\\raw\\train-labels-idx1-ubyte.gz\n"
     ]
    },
    {
     "name": "stderr",
     "output_type": "stream",
     "text": [
      "100.0%\n"
     ]
    },
    {
     "name": "stdout",
     "output_type": "stream",
     "text": [
      "Extracting C:\\Users\\Asus\\Desktop\\Lab\\CNN\\MNIST\\raw\\train-labels-idx1-ubyte.gz to C:\\Users\\Asus\\Desktop\\Lab\\CNN\\MNIST\\raw\n",
      "\n",
      "Downloading http://yann.lecun.com/exdb/mnist/t10k-images-idx3-ubyte.gz\n",
      "Downloading http://yann.lecun.com/exdb/mnist/t10k-images-idx3-ubyte.gz to C:\\Users\\Asus\\Desktop\\Lab\\CNN\\MNIST\\raw\\t10k-images-idx3-ubyte.gz\n"
     ]
    },
    {
     "name": "stderr",
     "output_type": "stream",
     "text": [
      "100.0%\n"
     ]
    },
    {
     "name": "stdout",
     "output_type": "stream",
     "text": [
      "Extracting C:\\Users\\Asus\\Desktop\\Lab\\CNN\\MNIST\\raw\\t10k-images-idx3-ubyte.gz to C:\\Users\\Asus\\Desktop\\Lab\\CNN\\MNIST\\raw\n",
      "\n",
      "Downloading http://yann.lecun.com/exdb/mnist/t10k-labels-idx1-ubyte.gz\n",
      "Downloading http://yann.lecun.com/exdb/mnist/t10k-labels-idx1-ubyte.gz to C:\\Users\\Asus\\Desktop\\Lab\\CNN\\MNIST\\raw\\t10k-labels-idx1-ubyte.gz\n"
     ]
    },
    {
     "name": "stderr",
     "output_type": "stream",
     "text": [
      "100.0%"
     ]
    },
    {
     "name": "stdout",
     "output_type": "stream",
     "text": [
      "Extracting C:\\Users\\Asus\\Desktop\\Lab\\CNN\\MNIST\\raw\\t10k-labels-idx1-ubyte.gz to C:\\Users\\Asus\\Desktop\\Lab\\CNN\\MNIST\\raw\n",
      "\n"
     ]
    },
    {
     "name": "stderr",
     "output_type": "stream",
     "text": [
      "\n"
     ]
    }
   ],
   "source": [
    "transform = transforms.ToTensor()\n",
    "\n",
    "train_data = datasets.MNIST(root='C:\\\\Users\\\\Asus\\\\Desktop\\\\Lab\\\\CNN', train=True, download=True, transform=transform)\n",
    "test_data = datasets.MNIST(root='C:\\\\Users\\\\Asus\\\\Desktop\\\\Lab\\\\CNN', train=False, download=True, transform=transform)"
   ]
  },
  {
   "cell_type": "code",
   "execution_count": 4,
   "metadata": {},
   "outputs": [
    {
     "data": {
      "text/plain": [
       "Dataset MNIST\n",
       "    Number of datapoints: 60000\n",
       "    Root location: C:\\Users\\Asus\\Desktop\\Lab\\CNN\n",
       "    Split: Train\n",
       "    StandardTransform\n",
       "Transform: ToTensor()"
      ]
     },
     "execution_count": 4,
     "metadata": {},
     "output_type": "execute_result"
    }
   ],
   "source": [
    "train_data"
   ]
  },
  {
   "cell_type": "code",
   "execution_count": 5,
   "metadata": {},
   "outputs": [
    {
     "data": {
      "text/plain": [
       "Dataset MNIST\n",
       "    Number of datapoints: 10000\n",
       "    Root location: C:\\Users\\Asus\\Desktop\\Lab\\CNN\n",
       "    Split: Test\n",
       "    StandardTransform\n",
       "Transform: ToTensor()"
      ]
     },
     "execution_count": 5,
     "metadata": {},
     "output_type": "execute_result"
    }
   ],
   "source": [
    "test_data"
   ]
  },
  {
   "cell_type": "markdown",
   "metadata": {},
   "source": [
    "# Load dataset"
   ]
  },
  {
   "cell_type": "code",
   "execution_count": 6,
   "metadata": {},
   "outputs": [],
   "source": [
    "train_loader = DataLoader(train_data, batch_size=10, shuffle=True)\n",
    "test_loader = DataLoader(test_data, batch_size=10, shuffle=False)"
   ]
  },
  {
   "cell_type": "markdown",
   "metadata": {},
   "source": [
    "# Define CNN"
   ]
  },
  {
   "cell_type": "code",
   "execution_count": 7,
   "metadata": {},
   "outputs": [],
   "source": [
    "class ConvolutionalNetwork(nn.Module):\n",
    "    def __init__(self):\n",
    "        super().__init__()\n",
    "        self.conv1 = nn.Conv2d(1, 6, 3, 1)\n",
    "        self.conv2 = nn.Conv2d(6, 16, 3, 1)\n",
    "        self.fc1 = nn.Linear(5*5*16, 120)\n",
    "        self.fc2 = nn.Linear(120, 84)\n",
    "        self.fc3 = nn.Linear(84,10)\n",
    "\n",
    "    def forward(self, X):\n",
    "        X = F.relu(self.conv1(X))\n",
    "        X = F.max_pool2d(X, 2, 2)\n",
    "        X = F.relu(self.conv2(X))\n",
    "        X = F.max_pool2d(X, 2, 2)\n",
    "        X = X.view(-1, 5*5*16)\n",
    "        X = F.relu(self.fc1(X))\n",
    "        X = F.relu(self.fc2(X))\n",
    "        X = self.fc3(X)\n",
    "        return F.log_softmax(X, dim=1)"
   ]
  },
  {
   "cell_type": "code",
   "execution_count": 8,
   "metadata": {},
   "outputs": [],
   "source": [
    "torch.manual_seed(42)\n",
    "model = ConvolutionalNetwork()"
   ]
  },
  {
   "cell_type": "markdown",
   "metadata": {},
   "source": [
    "# Define loss function and optimizer"
   ]
  },
  {
   "cell_type": "code",
   "execution_count": 9,
   "metadata": {},
   "outputs": [],
   "source": [
    "criterion = nn.CrossEntropyLoss()\n",
    "optimizer = torch.optim.Adam(model.parameters(), lr=0.001)"
   ]
  },
  {
   "cell_type": "markdown",
   "metadata": {},
   "source": [
    "# Train model"
   ]
  },
  {
   "cell_type": "code",
   "execution_count": 12,
   "metadata": {},
   "outputs": [
    {
     "name": "stdout",
     "output_type": "stream",
     "text": [
      "epoch:  0  batch:  600 [  6000/60000]  loss: 0.00040453  accuracy:  99.617%\n",
      "epoch:  0  batch: 1200 [ 12000/60000]  loss: 0.00045508  accuracy:  99.517%\n",
      "epoch:  0  batch: 1800 [ 18000/60000]  loss: 0.00004848  accuracy:  99.517%\n",
      "epoch:  0  batch: 2400 [ 24000/60000]  loss: 0.00229593  accuracy:  99.533%\n",
      "epoch:  0  batch: 3000 [ 30000/60000]  loss: 0.57134831  accuracy:  99.513%\n",
      "epoch:  0  batch: 3600 [ 36000/60000]  loss: 0.00011524  accuracy:  99.494%\n",
      "epoch:  0  batch: 4200 [ 42000/60000]  loss: 0.00001085  accuracy:  99.481%\n",
      "epoch:  0  batch: 4800 [ 48000/60000]  loss: 0.00015735  accuracy:  99.475%\n",
      "epoch:  0  batch: 5400 [ 54000/60000]  loss: 0.00055239  accuracy:  99.476%\n",
      "epoch:  0  batch: 6000 [ 60000/60000]  loss: 0.00003091  accuracy:  99.463%\n",
      "epoch:  1  batch:  600 [  6000/60000]  loss: 0.00002563  accuracy:  99.650%\n",
      "epoch:  1  batch: 1200 [ 12000/60000]  loss: 0.00000174  accuracy:  99.608%\n",
      "epoch:  1  batch: 1800 [ 18000/60000]  loss: 0.00069918  accuracy:  99.589%\n",
      "epoch:  1  batch: 2400 [ 24000/60000]  loss: 0.00111352  accuracy:  99.562%\n",
      "epoch:  1  batch: 3000 [ 30000/60000]  loss: 0.00249423  accuracy:  99.553%\n",
      "epoch:  1  batch: 3600 [ 36000/60000]  loss: 0.00000000  accuracy:  99.578%\n",
      "epoch:  1  batch: 4200 [ 42000/60000]  loss: 0.00000558  accuracy:  99.562%\n",
      "epoch:  1  batch: 4800 [ 48000/60000]  loss: 0.00780911  accuracy:  99.537%\n",
      "epoch:  1  batch: 5400 [ 54000/60000]  loss: 0.00080038  accuracy:  99.550%\n",
      "epoch:  1  batch: 6000 [ 60000/60000]  loss: 0.00000951  accuracy:  99.548%\n",
      "epoch:  2  batch:  600 [  6000/60000]  loss: 0.00563653  accuracy:  99.700%\n",
      "epoch:  2  batch: 1200 [ 12000/60000]  loss: 0.00008188  accuracy:  99.708%\n",
      "epoch:  2  batch: 1800 [ 18000/60000]  loss: 0.00000033  accuracy:  99.656%\n",
      "epoch:  2  batch: 2400 [ 24000/60000]  loss: 0.00001106  accuracy:  99.621%\n",
      "epoch:  2  batch: 3000 [ 30000/60000]  loss: 0.00151431  accuracy:  99.600%\n",
      "epoch:  2  batch: 3600 [ 36000/60000]  loss: 0.00374759  accuracy:  99.586%\n",
      "epoch:  2  batch: 4200 [ 42000/60000]  loss: 0.34517208  accuracy:  99.581%\n",
      "epoch:  2  batch: 4800 [ 48000/60000]  loss: 0.00002463  accuracy:  99.571%\n",
      "epoch:  2  batch: 5400 [ 54000/60000]  loss: 0.00335347  accuracy:  99.567%\n",
      "epoch:  2  batch: 6000 [ 60000/60000]  loss: 0.00007250  accuracy:  99.555%\n",
      "epoch:  3  batch:  600 [  6000/60000]  loss: 0.00029793  accuracy:  99.667%\n",
      "epoch:  3  batch: 1200 [ 12000/60000]  loss: 0.00007318  accuracy:  99.567%\n",
      "epoch:  3  batch: 1800 [ 18000/60000]  loss: 0.00014928  accuracy:  99.567%\n",
      "epoch:  3  batch: 2400 [ 24000/60000]  loss: 0.00000001  accuracy:  99.612%\n",
      "epoch:  3  batch: 3000 [ 30000/60000]  loss: 0.00000259  accuracy:  99.627%\n",
      "epoch:  3  batch: 3600 [ 36000/60000]  loss: 0.00071482  accuracy:  99.608%\n",
      "epoch:  3  batch: 4200 [ 42000/60000]  loss: 0.00000235  accuracy:  99.612%\n",
      "epoch:  3  batch: 4800 [ 48000/60000]  loss: 0.01756890  accuracy:  99.615%\n",
      "epoch:  3  batch: 5400 [ 54000/60000]  loss: 0.00050277  accuracy:  99.587%\n",
      "epoch:  3  batch: 6000 [ 60000/60000]  loss: 0.00158667  accuracy:  99.573%\n",
      "epoch:  4  batch:  600 [  6000/60000]  loss: 0.00105412  accuracy:  99.850%\n",
      "epoch:  4  batch: 1200 [ 12000/60000]  loss: 0.00476026  accuracy:  99.875%\n",
      "epoch:  4  batch: 1800 [ 18000/60000]  loss: 0.00123901  accuracy:  99.772%\n",
      "epoch:  4  batch: 2400 [ 24000/60000]  loss: 0.13152650  accuracy:  99.692%\n",
      "epoch:  4  batch: 3000 [ 30000/60000]  loss: 0.00000049  accuracy:  99.677%\n",
      "epoch:  4  batch: 3600 [ 36000/60000]  loss: 0.00461701  accuracy:  99.678%\n",
      "epoch:  4  batch: 4200 [ 42000/60000]  loss: 0.00081056  accuracy:  99.662%\n",
      "epoch:  4  batch: 4800 [ 48000/60000]  loss: 0.00064688  accuracy:  99.638%\n",
      "epoch:  4  batch: 5400 [ 54000/60000]  loss: 0.11650976  accuracy:  99.643%\n",
      "epoch:  4  batch: 6000 [ 60000/60000]  loss: 0.00000013  accuracy:  99.643%\n",
      "\n",
      "Duration: 269 seconds\n",
      "Best Accuracy: 99.64333333333333\n"
     ]
    }
   ],
   "source": [
    "import time\n",
    "start_time = time.time()\n",
    "\n",
    "epochs = 5\n",
    "train_losses = []\n",
    "test_losses = []\n",
    "train_correct = []\n",
    "test_correct = []\n",
    "\n",
    "best_accu = 0\n",
    "for i in range(epochs):\n",
    "    trn_corr = 0\n",
    "    tst_corr = 0\n",
    "    \n",
    "    # Run the training batches\n",
    "    for b, (X_train, y_train) in enumerate(train_loader):\n",
    "        b+=1\n",
    "        \n",
    "        # Apply the model\n",
    "        y_pred = model(X_train)  # we don't flatten X-train here\n",
    "        loss = criterion(y_pred, y_train)\n",
    " \n",
    "        # Tally the number of correct predictions\n",
    "        predicted = torch.max(y_pred.data, 1)[1]\n",
    "        batch_corr = (predicted == y_train).sum()\n",
    "        trn_corr += batch_corr\n",
    "        \n",
    "        # Update parameters\n",
    "        optimizer.zero_grad()\n",
    "        loss.backward()\n",
    "        optimizer.step()\n",
    "        \n",
    "        # Print interim results\n",
    "        if b%600 == 0:\n",
    "            accu = trn_corr.item()*100/(10*b)\n",
    "            print(f'epoch: {i:2}  batch: {b:4} [{10*b:6}/60000]  loss: {loss.item():10.8f}  \\\n",
    "accuracy: {accu:7.3f}%')\n",
    "    if accu > best_accu:\n",
    "        best_accu = accu\n",
    "        \n",
    "    train_losses.append(loss)\n",
    "    train_correct.append(trn_corr)\n",
    "        \n",
    "    # Run the testing batches\n",
    "    with torch.no_grad():\n",
    "        for b, (X_test, y_test) in enumerate(test_loader):\n",
    "\n",
    "            # Apply the model\n",
    "            y_val = model(X_test)\n",
    "\n",
    "            # Tally the number of correct predictions\n",
    "            predicted = torch.max(y_val.data, 1)[1] \n",
    "            tst_corr += (predicted == y_test).sum()\n",
    "            \n",
    "    loss = criterion(y_val, y_test)\n",
    "    test_losses.append(loss)\n",
    "    test_correct.append(tst_corr)\n",
    "        \n",
    "print(f'\\nDuration: {time.time() - start_time:.0f} seconds') # print the time elapsed  \n",
    "print(f'Best Accuracy: {best_accu}')"
   ]
  },
  {
   "cell_type": "markdown",
   "metadata": {},
   "source": [
    "# Plot loss"
   ]
  },
  {
   "cell_type": "code",
   "execution_count": 27,
   "metadata": {},
   "outputs": [],
   "source": [
    "# train_losses and test_losses to numpy\n",
    "train_lo = [train.detach().numpy() for train in train_losses]\n",
    "test_lo = [test.detach().numpy() for test in test_losses]\n"
   ]
  },
  {
   "cell_type": "code",
   "execution_count": 28,
   "metadata": {},
   "outputs": [
    {
     "data": {
      "text/plain": [
       "<matplotlib.legend.Legend at 0x1dbd28f5550>"
      ]
     },
     "execution_count": 28,
     "metadata": {},
     "output_type": "execute_result"
    },
    {
     "data": {
      "image/png": "[encoded data removed]",
      "text/plain": [
       "<Figure size 640x480 with 1 Axes>"
      ]
     },
     "metadata": {},
     "output_type": "display_data"
    }
   ],
   "source": [
    "plt.plot(train_lo, label='training loss')\n",
    "plt.plot(test_lo, label = 'test loss')\n",
    "plt.legend()"
   ]
  },
  {
   "cell_type": "markdown",
   "metadata": {},
   "source": [
    "# Plot Accuracy"
   ]
  },
  {
   "cell_type": "code",
   "execution_count": 29,
   "metadata": {},
   "outputs": [
    {
     "data": {
      "image/png": "[encoded data removed]",
      "text/plain": [
       "<Figure size 640x480 with 1 Axes>"
      ]
     },
     "metadata": {},
     "output_type": "display_data"
    }
   ],
   "source": [
    "plt.plot([t/600 for t in train_correct], label='training accuracy')\n",
    "plt.plot([t/100 for t in test_correct], label='validation accuracy')\n",
    "plt.title('Accuracy at the end of each epoch')\n",
    "plt.legend();"
   ]
  },
  {
   "cell_type": "markdown",
   "metadata": {},
   "source": [
    "# Evaluate Test Data"
   ]
  },
  {
   "cell_type": "code",
   "execution_count": 30,
   "metadata": {},
   "outputs": [],
   "source": [
    "# Kiểm tra với toàn bộ tập test\n",
    "test_load_all = DataLoader(test_data, batch_size = 10000, shuffle = False)\n"
   ]
  },
  {
   "cell_type": "code",
   "execution_count": 31,
   "metadata": {},
   "outputs": [
    {
     "name": "stdout",
     "output_type": "stream",
     "text": [
      "Test accuracy: 9866/10000 =  98.660%\n"
     ]
    }
   ],
   "source": [
    "with torch.no_grad():\n",
    "    correct = 0\n",
    "    for X_test, y_test in test_load_all:\n",
    "        y_val = model(X_test)  \n",
    "        predicted = torch.max(y_val,1)[1]\n",
    "        correct += (predicted == y_test).sum()\n",
    "print(f'Test accuracy: {correct.item()}/{len(test_data)} = {correct.item()*100/(len(test_data)):7.3f}%')"
   ]
  },
  {
   "cell_type": "markdown",
   "metadata": {},
   "source": [
    "# Example"
   ]
  },
  {
   "cell_type": "code",
   "execution_count": 32,
   "metadata": {},
   "outputs": [
    {
     "data": {
      "text/plain": [
       "<matplotlib.image.AxesImage at 0x1dbd0221710>"
      ]
     },
     "execution_count": 32,
     "metadata": {},
     "output_type": "execute_result"
    },
    {
     "data": {
      "image/png": "[encoded data removed]",
      "text/plain": [
       "<Figure size 640x480 with 1 Axes>"
      ]
     },
     "metadata": {},
     "output_type": "display_data"
    }
   ],
   "source": [
    "plt.imshow(test_data[333][0].reshape(28,28), cmap = 'gray')"
   ]
  },
  {
   "cell_type": "code",
   "execution_count": 34,
   "metadata": {},
   "outputs": [
    {
     "name": "stdout",
     "output_type": "stream",
     "text": [
      "Predicted value: 5\n"
     ]
    }
   ],
   "source": [
    "model.eval()\n",
    "with torch.no_grad():\n",
    "    pred = model(test_data[333][0].view(1,1,28,28)).argmax()\n",
    "print(\"Predicted value:\", pred.item())"
   ]
  }
 ],
 "metadata": {
  "kernelspec": {
   "display_name": "Python 3 (ipykernel)",
   "language": "python",
   "name": "python3"
  },
  "language_info": {
   "codemirror_mode": {
    "name": "ipython",
    "version": 3
   },
   "file_extension": ".py",
   "mimetype": "text/x-python",
   "name": "python",
   "nbconvert_exporter": "python",
   "pygments_lexer": "ipython3",
   "version": "3.11.4"
  }
 },
 "nbformat": 4,
 "nbformat_minor": 2
}
