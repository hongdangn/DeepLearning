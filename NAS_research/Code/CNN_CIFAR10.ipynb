{
  "nbformat": 4,
  "nbformat_minor": 0,
  "metadata": {
    "colab": {
      "provenance": []
    },
    "kernelspec": {
      "name": "python3",
      "display_name": "Python 3"
    },
    "language_info": {
      "name": "python"
    }
  },
  "cells": [
    {
      "cell_type": "markdown",
      "source": [
        "## **Load Data and Pre - processing**"
      ],
      "metadata": {
        "id": "VU_wS06L0GLi"
      }
    },
    {
      "cell_type": "code",
      "source": [
        "from keras.src.utils import np_utils"
      ],
      "metadata": {
        "id": "g-X2y2xG9FQU"
      },
      "execution_count": 17,
      "outputs": []
    },
    {
      "cell_type": "code",
      "source": [
        "import keras\n",
        "from keras import datasets, layers, models\n",
        "from keras.models import Sequential\n",
        "from keras import regularizers\n",
        "from keras.layers import Dense, Dropout, BatchNormalization\n",
        "import matplotlib.pyplot as plt\n",
        "import numpy as np"
      ],
      "metadata": {
        "id": "vetgbnFNppD2"
      },
      "execution_count": 18,
      "outputs": []
    },
    {
      "cell_type": "code",
      "source": [
        "# Load cifar10 dataset\n",
        "\n",
        "(X_train, y_train), (X_test, y_test) = datasets.cifar10.load_data()\n",
        "print(X_train.shape, X_test.shape)\n",
        "\n",
        "# All classes in cifar10\n",
        "classes = [\"airplane\", \"automobile\", \"bird\", \"cat\", \"deer\", \"dog\", \"frog\", \"horse\", \"ship\", \"truck\"]\n",
        "\n",
        "# One hot Coding the target class\n",
        "y_train = np_utils.to_categorical(y_train, len(classes)).astype(int)\n",
        "y_test = np_utils.to_categorical(y_test, len(classes)).astype(int)\n",
        "print(y_train[:5])"
      ],
      "metadata": {
        "colab": {
          "base_uri": "https://localhost:8080/"
        },
        "id": "XdcWEQT6qW3X",
        "outputId": "63ba8810-a4b7-4afe-91d5-43f30548838d"
      },
      "execution_count": 31,
      "outputs": [
        {
          "output_type": "stream",
          "name": "stdout",
          "text": [
            "(50000, 32, 32, 3) (10000, 32, 32, 3)\n",
            "[[0 0 0 0 0 0 1 0 0 0]\n",
            " [0 0 0 0 0 0 0 0 0 1]\n",
            " [0 0 0 0 0 0 0 0 0 1]\n",
            " [0 0 0 0 1 0 0 0 0 0]\n",
            " [0 1 0 0 0 0 0 0 0 0]]\n"
          ]
        }
      ]
    },
    {
      "cell_type": "code",
      "source": [
        "# visualize image function\n",
        "def plot_sample(X, y, index):\n",
        "  plt.figure(figsize = (15, 2))\n",
        "  plt.imshow(X[index])\n",
        "  class_index = None\n",
        "  for id in range(len(y[index])):\n",
        "    if y[index][id]:\n",
        "      class_index = id\n",
        "  plt.xlabel(classes[class_index])\n",
        "\n",
        "# normalize data\n",
        "X_train, X_test = X_train/255, X_test/255\n",
        "plot_sample(X_train, y_train, 10)"
      ],
      "metadata": {
        "id": "oB9mAs23vf_w",
        "colab": {
          "base_uri": "https://localhost:8080/",
          "height": 237
        },
        "outputId": "3550c0c1-e015-4a69-8bcd-d1a9213ac374"
      },
      "execution_count": 33,
      "outputs": [
        {
          "output_type": "display_data",
          "data": {
            "text/plain": [
              "<Figure size 1500x200 with 1 Axes>"
            ],
            "image/png": "[encoded data removed]"
          },
          "metadata": {}
        }
      ]
    },
    {
      "cell_type": "markdown",
      "source": [
        "## **Build a convolutional neural network to train images**"
      ],
      "metadata": {
        "id": "BdqdV0ZW04AV"
      }
    },
    {
      "cell_type": "code",
      "source": [
        "# creating a sequential model and adding layers to it\n",
        "\n",
        "model = Sequential()\n",
        "\n",
        "model.add(layers.Conv2D(32, (3,3), padding='same', activation='relu', input_shape=(32,32,3)))\n",
        "model.add(layers.BatchNormalization())\n",
        "model.add(layers.Conv2D(32, (3,3), padding='same', activation='relu'))\n",
        "model.add(layers.BatchNormalization())\n",
        "model.add(layers.MaxPooling2D(pool_size=(2,2)))\n",
        "model.add(layers.Dropout(0.3))\n",
        "\n",
        "model.add(layers.Conv2D(64, (3,3), padding='same', activation='relu'))\n",
        "model.add(layers.BatchNormalization())\n",
        "model.add(layers.Conv2D(64, (3,3), padding='same', activation='relu'))\n",
        "model.add(layers.BatchNormalization())\n",
        "model.add(layers.MaxPooling2D(pool_size=(2,2)))\n",
        "model.add(layers.Dropout(0.5))\n",
        "\n",
        "model.add(layers.Conv2D(128, (3,3), padding='same', activation='relu'))\n",
        "model.add(layers.BatchNormalization())\n",
        "model.add(layers.Conv2D(128, (3,3), padding='same', activation='relu'))\n",
        "model.add(layers.BatchNormalization())\n",
        "model.add(layers.MaxPooling2D(pool_size=(2,2)))\n",
        "model.add(layers.Dropout(0.5))\n",
        "\n",
        "model.add(layers.Flatten())\n",
        "model.add(layers.Dense(128, activation='relu'))\n",
        "model.add(layers.BatchNormalization())\n",
        "model.add(layers.Dropout(0.5))\n",
        "model.add(layers.Dense(len(classes), activation='softmax'))"
      ],
      "metadata": {
        "id": "5u6mkioVyUzd"
      },
      "execution_count": 34,
      "outputs": []
    },
    {
      "cell_type": "code",
      "source": [
        "# compiling the model\n",
        "model.compile(optimizer='adam', loss=keras.losses.categorical_crossentropy, metrics=['accuracy'])"
      ],
      "metadata": {
        "id": "h_HHgNXG1wem"
      },
      "execution_count": 35,
      "outputs": []
    },
    {
      "cell_type": "code",
      "source": [
        "# fitting the model\n",
        "model.fit(X_train, y_train, batch_size = 64, epochs = 15, validation_data = (X_test, y_test))"
      ],
      "metadata": {
        "colab": {
          "base_uri": "https://localhost:8080/"
        },
        "id": "BxJK7_JT6W0I",
        "outputId": "6bfa2b70-f567-49f0-c147-0209aebd66ea"
      },
      "execution_count": 37,
      "outputs": [
        {
          "output_type": "stream",
          "name": "stdout",
          "text": [
            "Epoch 1/15\n",
            "782/782 [==============================] - 430s 549ms/step - loss: 0.6860 - accuracy: 0.7637 - val_loss: 0.7397 - val_accuracy: 0.7474\n",
            "Epoch 2/15\n",
            "782/782 [==============================] - 430s 550ms/step - loss: 0.6552 - accuracy: 0.7743 - val_loss: 0.6484 - val_accuracy: 0.7751\n",
            "Epoch 3/15\n",
            "782/782 [==============================] - 415s 531ms/step - loss: 0.6265 - accuracy: 0.7837 - val_loss: 0.5492 - val_accuracy: 0.8071\n",
            "Epoch 4/15\n",
            "782/782 [==============================] - 412s 527ms/step - loss: 0.6000 - accuracy: 0.7953 - val_loss: 0.6007 - val_accuracy: 0.7935\n",
            "Epoch 5/15\n",
            "782/782 [==============================] - 410s 524ms/step - loss: 0.5767 - accuracy: 0.8027 - val_loss: 0.5915 - val_accuracy: 0.7992\n",
            "Epoch 6/15\n",
            "782/782 [==============================] - 411s 526ms/step - loss: 0.5574 - accuracy: 0.8072 - val_loss: 0.5615 - val_accuracy: 0.8103\n",
            "Epoch 7/15\n",
            "782/782 [==============================] - 409s 524ms/step - loss: 0.5500 - accuracy: 0.8113 - val_loss: 0.5147 - val_accuracy: 0.8213\n",
            "Epoch 8/15\n",
            "782/782 [==============================] - 409s 523ms/step - loss: 0.5318 - accuracy: 0.8174 - val_loss: 0.5247 - val_accuracy: 0.8214\n",
            "Epoch 9/15\n",
            "782/782 [==============================] - 412s 527ms/step - loss: 0.5126 - accuracy: 0.8247 - val_loss: 0.5173 - val_accuracy: 0.8224\n",
            "Epoch 10/15\n",
            "782/782 [==============================] - 409s 523ms/step - loss: 0.5031 - accuracy: 0.8268 - val_loss: 0.4891 - val_accuracy: 0.8338\n",
            "Epoch 11/15\n",
            "782/782 [==============================] - 415s 531ms/step - loss: 0.4906 - accuracy: 0.8321 - val_loss: 0.4928 - val_accuracy: 0.8319\n",
            "Epoch 12/15\n",
            "782/782 [==============================] - 413s 529ms/step - loss: 0.4772 - accuracy: 0.8386 - val_loss: 0.4738 - val_accuracy: 0.8403\n",
            "Epoch 13/15\n",
            "782/782 [==============================] - 412s 527ms/step - loss: 0.4721 - accuracy: 0.8376 - val_loss: 0.4460 - val_accuracy: 0.8487\n",
            "Epoch 14/15\n",
            "782/782 [==============================] - 411s 526ms/step - loss: 0.4626 - accuracy: 0.8400 - val_loss: 0.5045 - val_accuracy: 0.8329\n",
            "Epoch 15/15\n",
            "782/782 [==============================] - 410s 525ms/step - loss: 0.4530 - accuracy: 0.8433 - val_loss: 0.5013 - val_accuracy: 0.8311\n"
          ]
        },
        {
          "output_type": "execute_result",
          "data": {
            "text/plain": [
              "<keras.src.callbacks.History at 0x7f1f6d90d1b0>"
            ]
          },
          "metadata": {},
          "execution_count": 37
        }
      ]
    },
    {
      "cell_type": "code",
      "source": [
        "# evaluate the model\n",
        "model.evaluate(X_test, y_test)"
      ],
      "metadata": {
        "colab": {
          "base_uri": "https://localhost:8080/"
        },
        "id": "sBj_e2A36LvJ",
        "outputId": "c81bbaab-ca6d-45ac-8f45-8410a24ea52e"
      },
      "execution_count": 38,
      "outputs": [
        {
          "output_type": "stream",
          "name": "stdout",
          "text": [
            "313/313 [==============================] - 22s 69ms/step - loss: 0.5013 - accuracy: 0.8311\n"
          ]
        },
        {
          "output_type": "execute_result",
          "data": {
            "text/plain": [
              "[0.5013024806976318, 0.8310999870300293]"
            ]
          },
          "metadata": {},
          "execution_count": 38
        }
      ]
    },
    {
      "cell_type": "code",
      "source": [
        "# prediction\n",
        "y_pred = model.predict(X_test)\n",
        "plot_sample(X_test, y_test, 0)"
      ],
      "metadata": {
        "colab": {
          "base_uri": "https://localhost:8080/",
          "height": 254
        },
        "id": "1QHFwHaC6PUF",
        "outputId": "8452b15e-af1c-4481-8c02-ad3a670a36ba"
      },
      "execution_count": 40,
      "outputs": [
        {
          "output_type": "stream",
          "name": "stdout",
          "text": [
            "313/313 [==============================] - 22s 72ms/step\n"
          ]
        },
        {
          "output_type": "display_data",
          "data": {
            "text/plain": [
              "<Figure size 1500x200 with 1 Axes>"
            ],
            "image/png": "[encoded data removed]"
          },
          "metadata": {}
        }
      ]
    },
    {
      "cell_type": "code",
      "source": [
        "labels_pred = [np.argmax(element) for element in y_pred]\n",
        "classes[labels_pred[0]]"
      ],
      "metadata": {
        "colab": {
          "base_uri": "https://localhost:8080/",
          "height": 35
        },
        "id": "o_FTtl_m7Nbi",
        "outputId": "0fb168ea-1321-4d2d-a6d6-1c150583c8f0"
      },
      "execution_count": 42,
      "outputs": [
        {
          "output_type": "execute_result",
          "data": {
            "text/plain": [
              "'cat'"
            ],
            "application/vnd.google.colaboratory.intrinsic+json": {
              "type": "string"
            }
          },
          "metadata": {},
          "execution_count": 42
        }
      ]
    }
  ]
}